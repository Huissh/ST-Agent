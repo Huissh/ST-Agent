{
 "cells": [
  {
   "cell_type": "code",
   "execution_count": null,
   "id": "93807175-c05b-4d26-8a2a-bc9922f6ad78",
   "metadata": {},
   "outputs": [],
   "source": [
    "import pickle\n",
    "import torch \n",
    "import ast\n",
    "from tqdm import tqdm\n",
    "import json\n",
    "from itertools import islice\n",
    "from ResearchGraphDataset import * \n",
    "\n",
    "device = torch.device('cuda' if torch.cuda.is_available() else 'cpu')"
   ]
  },
  {
   "cell_type": "code",
   "execution_count": null,
   "id": "0be077c2-6d67-4e7b-8d58-39dd38691180",
   "metadata": {},
   "outputs": [
    {
     "name": "stderr",
     "output_type": "stream",
     "text": [
      "/root/miniconda3/lib/python3.10/site-packages/transformers/utils/generic.py:353: FutureWarning: `torch.utils._pytree._register_pytree_node` is deprecated. Please use `torch.utils._pytree.register_pytree_node` instead.\n",
      "  _torch_pytree._register_pytree_node(\n",
      "Processing papers: 100%|██████████| 12209/12209 [00:02<00:00, 5694.67it/s]\n",
      "Processing collaborations: 12209it [00:01, 11708.78it/s]\n"
     ]
    }
   ],
   "source": [
    "import pandas as pd\n",
    "df = pd.read_json('df.json')\n",
    "df = df[df['publication_year']>=2020]\n",
    "\n",
    "with open('splits_New.pkl', 'rb') as f:\n",
    "\tsplits = pickle.load(f)\n",
    "\n",
    "dataset = ResearchGraphDataset(df,splits, max_authors = 2) \n",
    "\n",
    "with open(\"data.json\", \"r\", encoding=\"utf-8\") as f: # prompt_data_preprocess获取的节点特征文件\n",
    "    data = json.load(f)\n",
    "\n",
    "idx = pd.read_csv(r'pos_idx.csv') # 正样本id数据\n",
    "\n",
    "with open(\"ds.json\", \"r\", encoding=\"utf-8\") as f: # 原始论文数据\n",
    "    prob = json.load(f)"
   ]
  },
  {
   "cell_type": "code",
   "execution_count": 8,
   "id": "3b25e379-159c-4cab-9d36-85ad683dd3b8",
   "metadata": {},
   "outputs": [],
   "source": [
    "active_authors,author_id_to_idx,idx_to_author_id = dataset.generate_authorid2idx(2023)\n",
    "all_pairs = list(data[\"dist\"].keys())"
   ]
  },
  {
   "cell_type": "code",
   "execution_count": null,
   "id": "606d35ee-fcc0-46e7-ac9c-4d146becbf7f",
   "metadata": {},
   "outputs": [],
   "source": [
    "split=2023\n",
    "splits = dataset.splits[split]\n",
    "train_g = dataset._add_topological_features(splits['train'])\n",
    "with open( f'train_samples_{split}_Original.pkl', 'rb') as f:\n",
    "    best_sample = pickle.load(f)"
   ]
  },
  {
   "cell_type": "code",
   "execution_count": null,
   "id": "94b1d0fb-37bb-4382-8752-8489074c49a9",
   "metadata": {},
   "outputs": [
    {
     "name": "stderr",
     "output_type": "stream",
     "text": [
      "100%|██████████| 20908/20908 [00:00<00:00, 996019.17it/s]\n"
     ]
    }
   ],
   "source": [
    "rank_list = []\n",
    "for each in tqdm(prob['final_prob']):\n",
    "    rank_list.append([prob['agent'][each], each, prob['final_prob'][each]])\n",
    "dfrank = pd.DataFrame(data = rank_list, columns = ['agent','pairs','prob'])\n",
    "dfrank.sort_values(by = ['agent','prob'], ascending = False, inplace = True)\n",
    "df1= pd.DataFrame(dfrank['agent'].value_counts())"
   ]
  },
  {
   "cell_type": "code",
   "execution_count": 14,
   "id": "a7b796f4-5c72-453a-9e0c-2f7a39d28b52",
   "metadata": {},
   "outputs": [
    {
     "name": "stderr",
     "output_type": "stream",
     "text": [
      "100%|██████████| 3599/3599 [18:55<00:00,  3.17it/s]\n"
     ]
    }
   ],
   "source": [
    "total_r,total_p = 0,0\n",
    "hits = 0\n",
    "cnt=0\n",
    "for src in tqdm(df1.index):\n",
    "    labels = {}\n",
    "    n = 0\n",
    "    for src_nodes, dst_nodes, label in best_sample:\n",
    "        if (int(src)== src_nodes.item()):\n",
    "            if int(label.item())== 1:\n",
    "                labels[(src_nodes.item(), dst_nodes.item())] = int(label.item())\n",
    "        if (int(src) == dst_nodes.item()):\n",
    "            if int(label.item())== 1:\n",
    "                labels[( dst_nodes.item(), src_nodes.item())] = int(label.item())\n",
    "                \n",
    "    if len(labels)==0:\n",
    "        cnt+=1\n",
    "        continue\n",
    "    length = int(df1[df1.index == src]['count'].item()*0.5) + 1\n",
    "    prob_rk = [eval(each) for each in dfrank[dfrank['agent']==int(src)].iloc[:length]['pairs'].tolist()]\n",
    "    #print(prob_rk,labels)\n",
    "    #hit@k\n",
    "    if any(p in labels.keys() for p in prob_rk): \n",
    "        hits += 1\n",
    "    #recall@k\n",
    "    for p in labels.keys():\n",
    "        if p in prob_rk:\n",
    "            n +=1\n",
    "    #precision@k\n",
    "    '''for p in prob_rk:\n",
    "        if p in labels.keys():\n",
    "            precision+=1'''\n",
    "    total_r += n/len(labels)\n",
    "    total_p += n/length"
   ]
  },
  {
   "cell_type": "code",
   "execution_count": 15,
   "id": "55717dab-eb0d-4708-ae8a-43470bc118cb",
   "metadata": {},
   "outputs": [
    {
     "data": {
      "text/plain": [
       "(0.8531770288925054, 0.3878530915655993, 0.9030286190608502)"
      ]
     },
     "execution_count": 15,
     "metadata": {},
     "output_type": "execute_result"
    }
   ],
   "source": [
    "total_r/len(df1) ,total_p/len(df1), hits/len(df1)"
   ]
  }
 ],
 "metadata": {
  "kernelspec": {
   "display_name": "Python 3 (ipykernel)",
   "language": "python",
   "name": "python3"
  },
  "language_info": {
   "codemirror_mode": {
    "name": "ipython",
    "version": 3
   },
   "file_extension": ".py",
   "mimetype": "text/x-python",
   "name": "python",
   "nbconvert_exporter": "python",
   "pygments_lexer": "ipython3",
   "version": "3.10.8"
  }
 },
 "nbformat": 4,
 "nbformat_minor": 5
}
