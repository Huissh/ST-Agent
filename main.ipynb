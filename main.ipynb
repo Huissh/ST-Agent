{
 "cells": [
  {
   "cell_type": "code",
   "execution_count": null,
   "id": "67ca84be-46b8-4f3a-99f9-b29f8758e0e6",
   "metadata": {},
   "outputs": [],
   "source": [
    "import pickle\n",
    "import torch \n",
    "import ast\n",
    "from tqdm import tqdm\n",
    "import json\n",
    "from itertools import islice\n",
    "from torch.utils.data import TensorDataset, DataLoader "
   ]
  },
  {
   "cell_type": "code",
   "execution_count": null,
   "id": "cf25fda8-267e-44a6-a24f-f2fffb79f5ec",
   "metadata": {},
   "outputs": [
    {
     "name": "stderr",
     "output_type": "stream",
     "text": [
      "/root/miniconda3/lib/python3.10/site-packages/transformers/utils/generic.py:496: FutureWarning: `torch.utils._pytree._register_pytree_node` is deprecated. Please use `torch.utils._pytree.register_pytree_node` instead.\n",
      "  _torch_pytree._register_pytree_node(\n",
      "/root/miniconda3/lib/python3.10/site-packages/transformers/utils/generic.py:353: FutureWarning: `torch.utils._pytree._register_pytree_node` is deprecated. Please use `torch.utils._pytree.register_pytree_node` instead.\n",
      "  _torch_pytree._register_pytree_node(\n",
      "/root/miniconda3/lib/python3.10/site-packages/torchvision/io/image.py:13: UserWarning: Failed to load image Python extension: '/root/miniconda3/lib/python3.10/site-packages/torchvision/image.so: undefined symbol: _ZN3c1017RegisterOperatorsD1Ev'If you don't plan on using image functionality from `torchvision.io`, you can ignore this warning. Otherwise, there might be something wrong with your environment. Did you have `libjpeg` or `libpng` installed before building `torchvision` from source?\n",
      "  warn(\n",
      "/root/miniconda3/lib/python3.10/site-packages/transformers/utils/generic.py:353: FutureWarning: `torch.utils._pytree._register_pytree_node` is deprecated. Please use `torch.utils._pytree.register_pytree_node` instead.\n",
      "  _torch_pytree._register_pytree_node(\n"
     ]
    }
   ],
   "source": [
    "from ResearchGraphDataset import * \n",
    "import CollaborationPredictorglm\n",
    "device = torch.device('cuda' if torch.cuda.is_available() else 'cpu')"
   ]
  },
  {
   "cell_type": "code",
   "execution_count": null,
   "id": "6575b654-3526-4a56-8e46-30d6c83da274",
   "metadata": {},
   "outputs": [
    {
     "name": "stderr",
     "output_type": "stream",
     "text": [
      "/root/miniconda3/lib/python3.10/site-packages/transformers/utils/generic.py:353: FutureWarning: `torch.utils._pytree._register_pytree_node` is deprecated. Please use `torch.utils._pytree.register_pytree_node` instead.\n",
      "  _torch_pytree._register_pytree_node(\n",
      "Processing papers: 100%|██████████| 12209/12209 [00:01<00:00, 6106.98it/s]\n",
      "Processing collaborations: 12209it [00:01, 11508.17it/s]\n"
     ]
    }
   ],
   "source": [
    "import pandas as pd\n",
    "df = pd.read_json('df.json')\n",
    "df = df[df['publication_year']>=2020]\n",
    "\n",
    "with open('splits_New.pkl', 'rb') as f:\n",
    "\tsplits = pickle.load(f)\n",
    "\n",
    "with open(\"data.json\", \"r\", encoding=\"utf-8\") as f: # prompt_data_preprocess获取的节点数据\n",
    "    data = json.load(f)\n",
    "    \n",
    "    \n",
    "idx = pd.read_csv(r'pos_idx.csv')"
   ]
  },
  {
   "cell_type": "code",
   "execution_count": null,
   "id": "f77537a8-5669-4f21-829a-551ec6fa80d6",
   "metadata": {},
   "outputs": [],
   "source": [
    "dataset = ResearchGraphDataset(df,splits, max_authors = 2) \n",
    "dataset.splits = splits\n",
    "predictor = CollaborationPredictorglm.CollaborationPredictorglm(dataset,data) "
   ]
  },
  {
   "cell_type": "markdown",
   "id": "d12403ba",
   "metadata": {},
   "source": [
    "# 构建样本"
   ]
  },
  {
   "cell_type": "markdown",
   "id": "59b627ed-b7e9-4919-9726-347aebb3bd10",
   "metadata": {},
   "source": [
    "# "
   ]
  },
  {
   "cell_type": "code",
   "execution_count": null,
   "id": "2bfb9ae5",
   "metadata": {},
   "outputs": [],
   "source": [
    "split=2023\n",
    "splits = dataset.splits[split]\n",
    "train_g = dataset._add_topological_features(splits['train'])\n",
    "sample_dataset = dataset.generate_candidate_pool(train_g)\n",
    "train_loader = DataLoader(sample_dataset, batch_size=256, shuffle=True, num_workers=4, pin_memory=True)\n",
    "best_samples = dataset.Sample_Optimization(train_loader,train_g)"
   ]
  },
  {
   "cell_type": "markdown",
   "id": "39381dc4",
   "metadata": {},
   "source": [
    "# 预测"
   ]
  },
  {
   "cell_type": "code",
   "execution_count": 14,
   "id": "ba7017d5-d1fe-4f22-ae46-a7dc10d77e82",
   "metadata": {},
   "outputs": [],
   "source": [
    "active_authors,author_id_to_idx,idx_to_author_id = dataset.generate_authorid2idx(2023)\n",
    "all_pairs = list(data[\"dist\"].keys())"
   ]
  },
  {
   "cell_type": "code",
   "execution_count": null,
   "id": "70a8e204-5964-428b-bb6e-e944869b17d5",
   "metadata": {},
   "outputs": [
    {
     "name": "stderr",
     "output_type": "stream",
     "text": [
      "  0%|          | 0/458 [00:00<?, ?it/s]"
     ]
    },
    {
     "name": "stdout",
     "output_type": "stream",
     "text": [
      "发生异常: Error code: 400, with error text {\"contentFilter\":[{\"level\":1,\"role\":\"user\"}],\"error\":{\"code\":\"1301\",\"message\":\"系统检测到输入或生成内容可能包含不安全或敏感内容，请您避免输入易产生敏感内容的提示语，感谢您的配合。\"}}\n"
     ]
    },
    {
     "name": "stderr",
     "output_type": "stream",
     "text": [
      " 42%|████▏     | 194/458 [2:01:07<2:26:27, 33.29s/it]"
     ]
    },
    {
     "name": "stdout",
     "output_type": "stream",
     "text": [
      "发生异常: Error code: 400, with error text {\"contentFilter\":[{\"level\":1,\"role\":\"user\"}],\"error\":{\"code\":\"1301\",\"message\":\"系统检测到输入或生成内容可能包含不安全或敏感内容，请您避免输入易产生敏感内容的提示语，感谢您的配合。\"}}\n",
      "发生异常: Error code: 400, with error text {\"contentFilter\":[{\"level\":1,\"role\":\"user\"}],\"error\":{\"code\":\"1301\",\"message\":\"系统检测到输入或生成内容可能包含不安全或敏感内容，请您避免输入易产生敏感内容的提示语，感谢您的配合。\"}}\n",
      "发生异常: Error code: 400, with error text {\"contentFilter\":[{\"level\":1,\"role\":\"user\"}],\"error\":{\"code\":\"1301\",\"message\":\"系统检测到输入或生成内容可能包含不安全或敏感内容，请您避免输入易产生敏感内容的提示语，感谢您的配合。\"}}\n"
     ]
    },
    {
     "name": "stderr",
     "output_type": "stream",
     "text": [
      " 43%|████▎     | 195/458 [2:01:11<1:46:39, 24.33s/it]"
     ]
    },
    {
     "name": "stdout",
     "output_type": "stream",
     "text": [
      "发生异常: Error code: 400, with error text {\"contentFilter\":[{\"level\":1,\"role\":\"user\"}],\"error\":{\"code\":\"1301\",\"message\":\"系统检测到输入或生成内容可能包含不安全或敏感内容，请您避免输入易产生敏感内容的提示语，感谢您的配合。\"}}\n"
     ]
    },
    {
     "name": "stderr",
     "output_type": "stream",
     "text": [
      " 90%|█████████ | 414/458 [4:03:43<25:40, 35.01s/it]  "
     ]
    },
    {
     "name": "stdout",
     "output_type": "stream",
     "text": [
      "发生异常: Error code: 400, with error text {\"contentFilter\":[{\"level\":1,\"role\":\"user\"}],\"error\":{\"code\":\"1301\",\"message\":\"系统检测到输入或生成内容可能包含不安全或敏感内容，请您避免输入易产生敏感内容的提示语，感谢您的配合。\"}}\n"
     ]
    },
    {
     "name": "stderr",
     "output_type": "stream",
     "text": [
      " 95%|█████████▌| 436/458 [4:18:53<18:03, 49.25s/it]"
     ]
    },
    {
     "name": "stdout",
     "output_type": "stream",
     "text": [
      "发生异常: Error code: 400, with error text {\"contentFilter\":[{\"level\":1,\"role\":\"user\"}],\"error\":{\"code\":\"1301\",\"message\":\"系统检测到输入或生成内容可能包含不安全或敏感内容，请您避免输入易产生敏感内容的提示语，感谢您的配合。\"}}\n"
     ]
    },
    {
     "name": "stderr",
     "output_type": "stream",
     "text": [
      "100%|██████████| 458/458 [4:30:49<00:00, 35.48s/it]\n"
     ]
    }
   ],
   "source": [
    "llm_cache = {}\n",
    "error_list = []\n",
    "for idx in tqdm(idx['idx']):\n",
    "    key = int(idx)\n",
    "    pairs = [eval(k) for k in all_pairs if key in eval(k)]\n",
    "    for p in pairs:\n",
    "        src_nodes = key\n",
    "        try:\n",
    "            dst_nodes = [n for n in p if n!= key][0]\n",
    "        except:\n",
    "            continue\n",
    "        try:\n",
    "            result = predictor.predict((src_nodes, dst_nodes), graph=train_g)\n",
    "            llm_cache[(src_nodes, dst_nodes)] = result\n",
    "        except:\n",
    "            error_list.append((src_nodes, dst_nodes))\n",
    "            continue "
   ]
  },
  {
   "cell_type": "code",
   "execution_count": null,
   "id": "8cd7c268-48d4-40c0-bb81-49817b230925",
   "metadata": {},
   "outputs": [
    {
     "name": "stdout",
     "output_type": "stream",
     "text": [
      "===2023 saved===\n"
     ]
    }
   ],
   "source": [
    "new_llm_cache = {}\n",
    "for row_key, cols in llm_cache.items():\n",
    "    row_str = str(row_key)\n",
    "    for col_key, value in cols.items():\n",
    "        new_llm_cache.setdefault(col_key, {})[row_str] = value\n",
    "with open(f'main.json', \"w\") as f:\n",
    "    json.dump(new_llm_cache, f)\n",
    "print('==='+'saved'+'===')"
   ]
  }
 ],
 "metadata": {
  "kernelspec": {
   "display_name": "Python 3 (ipykernel)",
   "language": "python",
   "name": "python3"
  },
  "language_info": {
   "codemirror_mode": {
    "name": "ipython",
    "version": 3
   },
   "file_extension": ".py",
   "mimetype": "text/x-python",
   "name": "python",
   "nbconvert_exporter": "python",
   "pygments_lexer": "ipython3",
   "version": "3.10.8"
  }
 },
 "nbformat": 4,
 "nbformat_minor": 5
}
